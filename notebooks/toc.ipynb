{
 "cells": [
  {
   "cell_type": "markdown",
   "metadata": {},
   "source": [
    "# [kathys-test-repo](https://kathyle9.github.io/kathys-test-repo)\n",
    "\n",
    "### [2.1 Pose Basics](http://nbviewer.jupyter.org/github/kathyle9/kathys-test-repo/blob/master/notebooks/02.01-Pose-Basics.ipynb)\n",
    "- [Loading in a PDB File ##](http://nbviewer.jupyter.org/github/kathyle9/kathys-test-repo/blob/master/notebooks/02.01-Pose-Basics.ipynb#Loading-in-a-PDB-File-##)\n",
    "    - [Exercise 1: Inspecting pose sequences](http://nbviewer.jupyter.org/github/kathyle9/kathys-test-repo/blob/master/notebooks/02.01-Pose-Basics.ipynb#Exercise-1:-Inspecting-pose-sequences)\n",
    "    - [Bonus Exercise 1: Identifying differences in sequences](http://nbviewer.jupyter.org/github/kathyle9/kathys-test-repo/blob/master/notebooks/02.01-Pose-Basics.ipynb#Bonus-Exercise-1:-Identifying-differences-in-sequences)\n",
    "- [Working with Pose residues ##](http://nbviewer.jupyter.org/github/kathyle9/kathys-test-repo/blob/master/notebooks/02.01-Pose-Basics.ipynb#Working-with-Pose-residues-##)\n",
    "    - [Exercise 2: Residue objects](http://nbviewer.jupyter.org/github/kathyle9/kathys-test-repo/blob/master/notebooks/02.01-Pose-Basics.ipynb#Exercise-2:-Residue-objects)\n",
    "- [Accessing PyRosetta Documentation ##](http://nbviewer.jupyter.org/github/kathyle9/kathys-test-repo/blob/master/notebooks/02.01-Pose-Basics.ipynb#Accessing-PyRosetta-Documentation-##)\n",
    "    - [Exercise 3: Python Object Help](http://nbviewer.jupyter.org/github/kathyle9/kathys-test-repo/blob/master/notebooks/02.01-Pose-Basics.ipynb#Exercise-3:-Python-Object-Help)\n",
    "    - [Exercise 4: Some residue commands](http://nbviewer.jupyter.org/github/kathyle9/kathys-test-repo/blob/master/notebooks/02.01-Pose-Basics.ipynb#Exercise-4:-Some-residue-commands)\n",
    "- [Getting spatial features from a Pose ##](http://nbviewer.jupyter.org/github/kathyle9/kathys-test-repo/blob/master/notebooks/02.01-Pose-Basics.ipynb#Getting-spatial-features-from-a-Pose-##)\n",
    "- [References](http://nbviewer.jupyter.org/github/kathyle9/kathys-test-repo/blob/master/notebooks/02.01-Pose-Basics.ipynb#References)"
   ]
  }
 ],
 "metadata": {},
 "nbformat": 4,
 "nbformat_minor": 2
}
