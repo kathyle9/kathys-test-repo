{
 "cells": [
  {
   "cell_type": "markdown",
   "metadata": {},
   "source": [
    "# [kathys-test-repo](https://kathyle9.github.io/kathys-test-repo)\n",
    "\n",
    "### [2.1 Pose Basics](http://nbviewer.jupyter.org/github/kathyle9/kathys-test-repo/blob/master/notebooks/02.01-Pose-Basics.ipynb)\n",
    "- [Loading in a PDB File ##](http://nbviewer.jupyter.org/github/kathyle9/kathys-test-repo/blob/master/notebooks/02.01-Pose-Basics.ipynb#Loading-in-a-PDB-File-##)\n",
    "    - [Exercise 1: Inspecting pose sequences](http://nbviewer.jupyter.org/github/kathyle9/kathys-test-repo/blob/master/notebooks/02.01-Pose-Basics.ipynb#Exercise-1:-Inspecting-pose-sequences)\n",
    "    - [Bonus Exercise 1: Identifying differences in sequences](http://nbviewer.jupyter.org/github/kathyle9/kathys-test-repo/blob/master/notebooks/02.01-Pose-Basics.ipynb#Bonus-Exercise-1:-Identifying-differences-in-sequences)\n",
    "- [Working with Pose residues ##](http://nbviewer.jupyter.org/github/kathyle9/kathys-test-repo/blob/master/notebooks/02.01-Pose-Basics.ipynb#Working-with-Pose-residues-##)\n",
    "    - [Exercise 2: Residue objects](http://nbviewer.jupyter.org/github/kathyle9/kathys-test-repo/blob/master/notebooks/02.01-Pose-Basics.ipynb#Exercise-2:-Residue-objects)\n",
    "- [Accessing PyRosetta Documentation ##](http://nbviewer.jupyter.org/github/kathyle9/kathys-test-repo/blob/master/notebooks/02.01-Pose-Basics.ipynb#Accessing-PyRosetta-Documentation-##)\n",
    "    - [Exercise 3: Python Object Help](http://nbviewer.jupyter.org/github/kathyle9/kathys-test-repo/blob/master/notebooks/02.01-Pose-Basics.ipynb#Exercise-3:-Python-Object-Help)\n",
    "    - [Exercise 4: Some residue commands](http://nbviewer.jupyter.org/github/kathyle9/kathys-test-repo/blob/master/notebooks/02.01-Pose-Basics.ipynb#Exercise-4:-Some-residue-commands)\n",
    "- [Getting spatial features from a Pose ##](http://nbviewer.jupyter.org/github/kathyle9/kathys-test-repo/blob/master/notebooks/02.01-Pose-Basics.ipynb#Getting-spatial-features-from-a-Pose-##)\n",
    "- [References](http://nbviewer.jupyter.org/github/kathyle9/kathys-test-repo/blob/master/notebooks/02.01-Pose-Basics.ipynb#References)\n",
    "\n",
    "### [2.2 Protein Geometry and Visualization](http://nbviewer.jupyter.org/github/kathyle9/kathys-test-repo/blob/master/notebooks/02.02-Protein-Geometry-and-Visualization.ipynb)\n",
    "- [Rosetta Database Files](http://nbviewer.jupyter.org/github/kathyle9/kathys-test-repo/blob/master/notebooks/02.02-Protein-Geometry-and-Visualization.ipynb#Rosetta-Database-Files)\n",
    "    - [Exercise 5: Calculating psi angle](http://nbviewer.jupyter.org/github/kathyle9/kathys-test-repo/blob/master/notebooks/02.02-Protein-Geometry-and-Visualization.ipynb#Exercise-5:-Calculating-psi-angle)\n",
    "- [Manipulating Protein Geometry](http://nbviewer.jupyter.org/github/kathyle9/kathys-test-repo/blob/master/notebooks/02.02-Protein-Geometry-and-Visualization.ipynb#Manipulating-Protein-Geometry)\n",
    "- [Visualization and the PyMOL Mover](http://nbviewer.jupyter.org/github/kathyle9/kathys-test-repo/blob/master/notebooks/02.02-Protein-Geometry-and-Visualization.ipynb#Visualization-and-the-PyMOL-Mover)\n",
    "    - [Exercise 7: Visualizing changes in backbone angles](http://nbviewer.jupyter.org/github/kathyle9/kathys-test-repo/blob/master/notebooks/02.02-Protein-Geometry-and-Visualization.ipynb#Exercise-7:-Visualizing-changes-in-backbone-angles)\n",
    "- [Additional Exercises ##](http://nbviewer.jupyter.org/github/kathyle9/kathys-test-repo/blob/master/notebooks/02.02-Protein-Geometry-and-Visualization.ipynb#Additional-Exercises-##)\n",
    "    - [Analyzing Amino Acid Patterns](http://nbviewer.jupyter.org/github/kathyle9/kathys-test-repo/blob/master/notebooks/02.02-Protein-Geometry-and-Visualization.ipynb#Analyzing-Amino-Acid-Patterns)\n",
    "    - [Active Site Residues](http://nbviewer.jupyter.org/github/kathyle9/kathys-test-repo/blob/master/notebooks/02.02-Protein-Geometry-and-Visualization.ipynb#Active-Site-Residues)\n",
    "- [Answers](http://nbviewer.jupyter.org/github/kathyle9/kathys-test-repo/blob/master/notebooks/02.02-Protein-Geometry-and-Visualization.ipynb#Answers)\n",
    "    - [Exercise 6](http://nbviewer.jupyter.org/github/kathyle9/kathys-test-repo/blob/master/notebooks/02.02-Protein-Geometry-and-Visualization.ipynb#Exercise-6)\n",
    "- [References](http://nbviewer.jupyter.org/github/kathyle9/kathys-test-repo/blob/master/notebooks/02.02-Protein-Geometry-and-Visualization.ipynb#References)\n",
    "* Figures\n",
    "    - [SegmentLocal](PyMOL-tutorial.gif \"PyMOL\")\n",
    "* Links\n",
    "    - [Ramachandran plot](http://kinemage.biochem.duke.edu/teaching/anatax/html/anatax.1b.html)\n",
    "    - [Richardson's Anatomy and Taxonomy of Protein Structure](http://kinemage.biochem.duke.edu/teaching/anatax/)"
   ]
  }
 ],
 "metadata": {},
 "nbformat": 4,
 "nbformat_minor": 2
}
